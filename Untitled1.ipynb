{
  "nbformat": 4,
  "nbformat_minor": 0,
  "metadata": {
    "colab": {
      "provenance": [],
      "gpuType": "T4",
      "authorship_tag": "ABX9TyNC6u56TvJ/Gb2GmSHIVpZP",
      "include_colab_link": true
    },
    "kernelspec": {
      "name": "python3",
      "display_name": "Python 3"
    },
    "language_info": {
      "name": "python"
    },
    "accelerator": "GPU"
  },
  "cells": [
    {
      "cell_type": "markdown",
      "metadata": {
        "id": "view-in-github",
        "colab_type": "text"
      },
      "source": [
        "<a href=\"https://colab.research.google.com/github/Jamesl65/githubTest/blob/main/Untitled1.ipynb\" target=\"_parent\"><img src=\"https://colab.research.google.com/assets/colab-badge.svg\" alt=\"Open In Colab\"/></a>"
      ]
    },
    {
      "cell_type": "code",
      "source": [
        "import torch\n",
        "import numpy as np\n",
        "\n",
        "device = \"cuda\" if torch.cuda.is_available() else \"cpu\"\n",
        "\n",
        "%time\n",
        "seed = 4\n",
        "torch.manual_seed(seed)\n",
        "random_A = torch.rand(3, 4)\n",
        "\n",
        "torch.manual_seed(seed)\n",
        "random_B = torch.rand(3, 4)\n",
        "print(random_A)\n",
        "print(random_B)\n",
        "print(random_A == random_B)\n",
        "\n",
        "torch.cuda.device_count()\n",
        "random_A.to(device)"
      ],
      "metadata": {
        "colab": {
          "base_uri": "https://localhost:8080/"
        },
        "id": "FUlPJJuPaqjk",
        "outputId": "b09ad90d-4d32-4732-e1ad-ecbd0a191ba7"
      },
      "execution_count": 2,
      "outputs": [
        {
          "output_type": "stream",
          "name": "stdout",
          "text": [
            "CPU times: user 2 µs, sys: 0 ns, total: 2 µs\n",
            "Wall time: 5.01 µs\n",
            "tensor([[0.5596, 0.5591, 0.0915, 0.2100],\n",
            "        [0.0072, 0.0390, 0.9929, 0.9131],\n",
            "        [0.6186, 0.9744, 0.3189, 0.2148]])\n",
            "tensor([[0.5596, 0.5591, 0.0915, 0.2100],\n",
            "        [0.0072, 0.0390, 0.9929, 0.9131],\n",
            "        [0.6186, 0.9744, 0.3189, 0.2148]])\n",
            "tensor([[True, True, True, True],\n",
            "        [True, True, True, True],\n",
            "        [True, True, True, True]])\n"
          ]
        },
        {
          "output_type": "execute_result",
          "data": {
            "text/plain": [
              "tensor([[0.5596, 0.5591, 0.0915, 0.2100],\n",
              "        [0.0072, 0.0390, 0.9929, 0.9131],\n",
              "        [0.6186, 0.9744, 0.3189, 0.2148]], device='cuda:0')"
            ]
          },
          "metadata": {},
          "execution_count": 2
        }
      ]
    }
  ]
}